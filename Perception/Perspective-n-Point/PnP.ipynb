{
 "cells": [
  {
   "cell_type": "code",
   "execution_count": 19,
   "metadata": {},
   "outputs": [],
   "source": [
    "# #!/usr/bin/env python\n",
    "\n",
    "# import cv2\n",
    "# import numpy as np\n",
    "\n",
    "# # Read Image\n",
    "# im = cv2.imread(\"headPose.jpg\");\n",
    "# size = im.shape\n",
    "    \n",
    "# #2D image points. If you change the image, you need to change vector\n",
    "# image_points = np.array([\n",
    "#                             (359, 391),     # Nose tip\n",
    "#                             (399, 561),     # Chin\n",
    "#                             (337, 297),     # Left eye left corner\n",
    "#                             (513, 301),     # Right eye right corne\n",
    "#                             (345, 465),     # Left Mouth corner\n",
    "#                             (453, 469)      # Right mouth corner\n",
    "#                         ], dtype=\"double\")\n",
    "\n",
    "# # 3D model points.\n",
    "# model_points = np.array([\n",
    "#                             (0.0, 0.0, 0.0),             # Nose tip\n",
    "#                             (0.0, -330.0, -65.0),        # Chin\n",
    "#                             (-225.0, 170.0, -135.0),     # Left eye left corner\n",
    "#                             (225.0, 170.0, -135.0),      # Right eye right corne\n",
    "#                             (-150.0, -150.0, -125.0),    # Left Mouth corner\n",
    "#                             (150.0, -150.0, -125.0)      # Right mouth corner\n",
    "                        \n",
    "#                         ])\n",
    "\n",
    "\n",
    "# # Camera internals\n",
    "\n",
    "# focal_length = size[1]\n",
    "# center = (size[1]/2, size[0]/2)\n",
    "# camera_matrix = np.array(\n",
    "#                          [[focal_length, 0, center[0]],\n",
    "#                          [0, focal_length, center[1]],\n",
    "#                          [0, 0, 1]], dtype = \"double\"\n",
    "#                          )\n",
    "\n",
    "# print \"Camera Matrix :\\n {0}\".format(camera_matrix)\n",
    "\n",
    "# dist_coeffs = np.zeros((4,1)) # Assuming no lens distortion\n",
    "# (success, rotation_vector, translation_vector) = cv2.solvePnP(model_points, image_points, camera_matrix, dist_coeffs, flags=cv2.CV_ITERATIVE)\n",
    "\n",
    "# print \"Rotation Vector:\\n {0}\".format(rotation_vector)\n",
    "# print \"Translation Vector:\\n {0}\".format(translation_vector)\n",
    "\n",
    "\n",
    "# # Project a 3D point (0, 0, 1000.0) onto the image plane.\n",
    "# # We use this to draw a line sticking out of the nose\n",
    "\n",
    "\n",
    "# (nose_end_point2D, jacobian) = cv2.projectPoints(np.array([(0.0, 0.0, 1000.0)]), rotation_vector, translation_vector, camera_matrix, dist_coeffs)\n",
    "\n",
    "# for p in image_points:\n",
    "#     cv2.circle(im, (int(p[0]), int(p[1])), 3, (0,0,255), -1)\n",
    "\n",
    "\n",
    "# p1 = ( int(image_points[0][0]), int(image_points[0][1]))\n",
    "# p2 = ( int(nose_end_point2D[0][0][0]), int(nose_end_point2D[0][0][1]))\n",
    "\n",
    "# cv2.line(im, p1, p2, (255,0,0), 2)\n",
    "\n",
    "# # Display image\n",
    "# cv2.imshow(\"Output\", im)\n",
    "# cv2.waitKey(0)"
   ]
  },
  {
   "cell_type": "code",
   "execution_count": null,
   "metadata": {},
   "outputs": [],
   "source": []
  },
  {
   "cell_type": "markdown",
   "metadata": {},
   "source": [
    "# Perform one image calculation"
   ]
  },
  {
   "cell_type": "markdown",
   "metadata": {},
   "source": [
    "https://www.learnopencv.com/head-pose-estimation-using-opencv-and-dlib/"
   ]
  },
  {
   "cell_type": "code",
   "execution_count": 20,
   "metadata": {},
   "outputs": [],
   "source": [
    "import cv2\n",
    "import numpy as np"
   ]
  },
  {
   "cell_type": "code",
   "execution_count": 21,
   "metadata": {},
   "outputs": [],
   "source": [
    "# Read Image\n",
    "im = cv2.imread(\"headPose.jpg\");\n",
    "size = im.shape"
   ]
  },
  {
   "cell_type": "code",
   "execution_count": 22,
   "metadata": {},
   "outputs": [],
   "source": [
    "#2D image points. If you change the image, you need to change vector\n",
    "image_points = np.array([\n",
    "                            (359, 391),     # Nose tip\n",
    "                            (399, 561),     # Chin\n",
    "                            (337, 297),     # Left eye left corner\n",
    "                            (513, 301),     # Right eye right corne\n",
    "                            (345, 465),     # Left Mouth corner\n",
    "                            (453, 469)      # Right mouth corner\n",
    "                        ], dtype=\"double\")"
   ]
  },
  {
   "cell_type": "code",
   "execution_count": 23,
   "metadata": {},
   "outputs": [],
   "source": [
    "# 3D model points.\n",
    "model_points = np.array([\n",
    "                            (0.0, 0.0, 0.0),             # Nose tip\n",
    "                            (0.0, -330.0, -65.0),        # Chin\n",
    "                            (-225.0, 170.0, -135.0),     # Left eye left corner\n",
    "                            (225.0, 170.0, -135.0),      # Right eye right corne\n",
    "                            (-150.0, -150.0, -125.0),    # Left Mouth corner\n",
    "                            (150.0, -150.0, -125.0)      # Right mouth corner\n",
    "                        \n",
    "                        ])"
   ]
  },
  {
   "cell_type": "code",
   "execution_count": 24,
   "metadata": {},
   "outputs": [
    {
     "name": "stdout",
     "output_type": "stream",
     "text": [
      "Camera Matrix :\n",
      " [[1.200e+03 0.000e+00 6.000e+02]\n",
      " [0.000e+00 1.200e+03 3.375e+02]\n",
      " [0.000e+00 0.000e+00 1.000e+00]]\n"
     ]
    }
   ],
   "source": [
    "# Camera internals\n",
    "focal_length = size[1]\n",
    "center = (size[1]/2, size[0]/2)\n",
    "camera_matrix = np.array(\n",
    "                         [[focal_length, 0, center[0]],\n",
    "                         [0, focal_length, center[1]],\n",
    "                         [0, 0, 1]], dtype = \"double\"\n",
    "                         )\n",
    "\n",
    "print(\"Camera Matrix :\\n {0}\".format(camera_matrix))\n",
    "\n",
    "dist_coeffs = np.zeros((4,1)) # Assuming no lens distortion"
   ]
  },
  {
   "cell_type": "code",
   "execution_count": 25,
   "metadata": {},
   "outputs": [
    {
     "name": "stdout",
     "output_type": "stream",
     "text": [
      "Rotation Vector:\n",
      " [[-0.05800198]\n",
      " [ 2.20224639]\n",
      " [ 0.01942058]]\n",
      "Translation Vector:\n",
      " [[  449.51968738]\n",
      " [  -94.74161089]\n",
      " [-2343.96945188]]\n"
     ]
    }
   ],
   "source": [
    "# PnP solution\n",
    "(success, rotation_vector, translation_vector) = cv2.solvePnP(model_points, image_points, camera_matrix, dist_coeffs, flags=cv2.cv2.SOLVEPNP_ITERATIVE)\n",
    "\n",
    "print(\"Rotation Vector:\\n {0}\".format(rotation_vector))\n",
    "print(\"Translation Vector:\\n {0}\".format(translation_vector))"
   ]
  },
  {
   "cell_type": "code",
   "execution_count": 26,
   "metadata": {},
   "outputs": [
    {
     "data": {
      "text/plain": [
       "-1"
      ]
     },
     "execution_count": 26,
     "metadata": {},
     "output_type": "execute_result"
    }
   ],
   "source": [
    "# Project a 3D point (0, 0, 1000.0) onto the image plane.\n",
    "# We use this to draw a line sticking out of the nose\n",
    "\n",
    "(nose_end_point2D, jacobian) = cv2.projectPoints(np.array([(0.0, 0.0, 1000.0)]), rotation_vector, translation_vector, camera_matrix, dist_coeffs)\n",
    "\n",
    "for p in image_points:\n",
    "    cv2.circle(im, (int(p[0]), int(p[1])), 3, (0,0,255), -1)\n",
    "\n",
    "\n",
    "p1 = ( int(image_points[0][0]), int(image_points[0][1]))\n",
    "p2 = ( int(nose_end_point2D[0][0][0]), int(nose_end_point2D[0][0][1]))\n",
    "\n",
    "cv2.line(im, p1, p2, (255,0,0), 2)\n",
    "\n",
    "# Display image\n",
    "cv2.imshow(\"Output\", im)\n",
    "cv2.waitKey(0)"
   ]
  },
  {
   "cell_type": "code",
   "execution_count": null,
   "metadata": {},
   "outputs": [],
   "source": []
  },
  {
   "cell_type": "markdown",
   "metadata": {},
   "source": [
    "# PnP applied to cone"
   ]
  },
  {
   "cell_type": "code",
   "execution_count": 9,
   "metadata": {},
   "outputs": [
    {
     "data": {
      "text/plain": [
       "(740, 940, 3)"
      ]
     },
     "execution_count": 9,
     "metadata": {},
     "output_type": "execute_result"
    }
   ],
   "source": [
    "# Read Image\n",
    "im = cv2.imread(\"amz_00004.jpg\");\n",
    "size = im.shape\n",
    "size"
   ]
  },
  {
   "cell_type": "code",
   "execution_count": 10,
   "metadata": {},
   "outputs": [
    {
     "data": {
      "text/plain": [
       "-1"
      ]
     },
     "execution_count": 10,
     "metadata": {},
     "output_type": "execute_result"
    }
   ],
   "source": [
    "cv2.imshow(\"Input\", im)\n",
    "cv2.waitKey(0)"
   ]
  },
  {
   "cell_type": "code",
   "execution_count": 11,
   "metadata": {},
   "outputs": [],
   "source": [
    "#2D image points. If you change the image, you need to change vector\n",
    "image_points = np.array([\n",
    "                            (600, 445),     # A\n",
    "                            (597, 455),     # B\n",
    "                            (604, 455),     # C\n",
    "                            (596, 462),     # D\n",
    "                            (606, 462),     # E\n",
    "                            (595, 470),     # F\n",
    "                            (608, 470),     # G\n",
    "                        ], dtype=\"double\")"
   ]
  },
  {
   "cell_type": "code",
   "execution_count": 12,
   "metadata": {},
   "outputs": [],
   "source": [
    "# 3D model points.\n",
    "model_points = np.array([\n",
    "                            (0.0, 0.0, 325),# A\n",
    "                            (0.0, -11.5, 223.4),# B\n",
    "                            (0, 11.5, 223.4),# C\n",
    "                            (0, -22.6, 131.1),# D\n",
    "                            (0, -22.6, 131.1),# E\n",
    "                            (0, -35, 25),# F\n",
    "                            (0, 35, 25), # G\n",
    "                        ])"
   ]
  },
  {
   "cell_type": "code",
   "execution_count": 13,
   "metadata": {},
   "outputs": [
    {
     "name": "stdout",
     "output_type": "stream",
     "text": [
      "Camera Matrix :\n",
      " [[940.   0. 470.]\n",
      " [  0. 940. 370.]\n",
      " [  0.   0.   1.]]\n"
     ]
    }
   ],
   "source": [
    "# Camera internals\n",
    "focal_length = size[1]\n",
    "center = (size[1]/2, size[0]/2)\n",
    "camera_matrix = np.array(\n",
    "                         [[focal_length, 0, center[0]],\n",
    "                         [0, focal_length, center[1]],\n",
    "                         [0, 0, 1]], dtype = \"double\"\n",
    "                         )\n",
    "\n",
    "print(\"Camera Matrix :\\n {0}\".format(camera_matrix))\n",
    "\n",
    "dist_coeffs = np.zeros((4,1)) # Assuming no lens distortion"
   ]
  },
  {
   "cell_type": "code",
   "execution_count": 14,
   "metadata": {
    "scrolled": true
   },
   "outputs": [],
   "source": [
    "# methods = [cv2.cv2.SOLVEPNP_ITERATIVE, cv2.cv2.SOLVEPNP_P3P, cv2.cv2.SOLVEPNP_EPNP,\n",
    "#            cv2.cv2.SOLVEPNP_DLS]\n",
    "\n",
    "# for method in methods:\n",
    "#     print(\"\\n\", method)\n",
    "#     (success, rotation_vector, translation_vector) = cv2.solvePnP(model_points, image_points, camera_matrix, dist_coeffs, flags=method)\n",
    "\n",
    "#     print(\"Success?\", success)\n",
    "#     print(\"Rotation Vector:\\n {0}\".format(rotation_vector))\n",
    "#     print(\"Translation Vector:\\n {0}\".format(translation_vector))"
   ]
  },
  {
   "cell_type": "code",
   "execution_count": 15,
   "metadata": {},
   "outputs": [
    {
     "name": "stdout",
     "output_type": "stream",
     "text": [
      "Success? True\n",
      "Rotation Vector:\n",
      " [[ 1.88682602]\n",
      " [ 1.94351276]\n",
      " [-0.80653627]]\n",
      "Translation Vector:\n",
      " [[ 863.43276593]\n",
      " [ 663.55007664]\n",
      " [6101.82476303]]\n"
     ]
    }
   ],
   "source": [
    "# PnP solution\n",
    "(success, rotation_vector, translation_vector) = cv2.solvePnP(model_points, image_points, camera_matrix, dist_coeffs, flags=cv2.cv2.SOLVEPNP_ITERATIVE)\n",
    "\n",
    "print(\"Success?\", success)\n",
    "print(\"Rotation Vector:\\n {0}\".format(rotation_vector))\n",
    "print(\"Translation Vector:\\n {0}\".format(translation_vector))"
   ]
  },
  {
   "cell_type": "code",
   "execution_count": 16,
   "metadata": {},
   "outputs": [],
   "source": [
    "# # PnP RANSAC solution\n",
    "# (rotation, translation, inliers) = cv2.solvePnPRansac(model_points, image_points, camera_matrix, dist_coeffs, flags=cv2.cv2.SOLVEPNP_ITERATIVE)\n",
    "\n",
    "# print(\"Inlier indices?\", inliers)v\n",
    "# print(\"Rotation Vector:\\n {0}\".format(rotation))\n",
    "# print(\"Translation Vector:\\n {0}\".format(translation))"
   ]
  },
  {
   "cell_type": "code",
   "execution_count": 18,
   "metadata": {},
   "outputs": [
    {
     "data": {
      "text/plain": [
       "-1"
      ]
     },
     "execution_count": 18,
     "metadata": {},
     "output_type": "execute_result"
    }
   ],
   "source": [
    "# Project a 3D point (0, 0, 1000.0) onto the image plane.\n",
    "# We use this to draw a line sticking out of the nose\n",
    "im_to_draw = im.copy()\n",
    "\n",
    "(x_axis, jacobian) = cv2.projectPoints(np.array([(1000.0, 0.0, 0.0)]), rotation_vector, translation_vector, camera_matrix, dist_coeffs)\n",
    "(y_axis, jacobian) = cv2.projectPoints(np.array([(0.0, 1000.0, 0.0)]), rotation_vector, translation_vector, camera_matrix, dist_coeffs)\n",
    "(z_axis, jacobian) = cv2.projectPoints(np.array([(0.0, 0.0, 1000.0)]), rotation_vector, translation_vector, camera_matrix, dist_coeffs)\n",
    "\n",
    "for p in image_points:\n",
    "    cv2.circle(im_to_draw, (int(p[0]), int(p[1])), 3, (0,0,255), -1)\n",
    "\n",
    "\n",
    "center_point = ( int(image_points[0][0]), int(image_points[0][1]))\n",
    "x_axis_point = ( int(x_axis[0][0][0]), int(x_axis[0][0][1]))\n",
    "y_axis_point = ( int(y_axis[0][0][0]), int(y_axis[0][0][1]))\n",
    "z_axis_point = ( int(z_axis[0][0][0]), int(z_axis[0][0][1]))\n",
    "\n",
    "cv2.line(im_to_draw, center_point, x_axis_point, (255,0,0), 2) # Blue\n",
    "cv2.line(im_to_draw, center_point, y_axis_point, (0,255,0), 2) # Green\n",
    "cv2.line(im_to_draw, center_point, z_axis_point, (0,0,255), 2) # Red\n",
    "\n",
    "# Display image\n",
    "cv2.imwrite(\"amz_00004_annotated.jpg\", im_to_draw)\n",
    "cv2.imshow(\"Output\", im_to_draw)\n",
    "cv2.waitKey(0)"
   ]
  },
  {
   "cell_type": "code",
   "execution_count": null,
   "metadata": {},
   "outputs": [],
   "source": []
  }
 ],
 "metadata": {
  "kernelspec": {
   "display_name": "Python 3",
   "language": "python",
   "name": "python3"
  },
  "language_info": {
   "codemirror_mode": {
    "name": "ipython",
    "version": 3
   },
   "file_extension": ".py",
   "mimetype": "text/x-python",
   "name": "python",
   "nbconvert_exporter": "python",
   "pygments_lexer": "ipython3",
   "version": "3.7.1"
  }
 },
 "nbformat": 4,
 "nbformat_minor": 2
}
